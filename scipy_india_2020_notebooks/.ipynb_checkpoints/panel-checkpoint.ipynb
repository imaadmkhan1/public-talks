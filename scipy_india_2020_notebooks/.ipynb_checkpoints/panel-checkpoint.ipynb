{
 "cells": [
  {
   "cell_type": "code",
   "execution_count": 7,
   "metadata": {},
   "outputs": [
    {
     "name": "stdout",
     "output_type": "stream",
     "text": [
      "5.0\n"
     ]
    },
    {
     "data": {},
     "metadata": {},
     "output_type": "display_data"
    },
    {
     "data": {
      "application/vnd.holoviews_exec.v0+json": "",
      "text/html": [
       "<div id='1036'>\n",
       "\n",
       "\n",
       "\n",
       "\n",
       "\n",
       "  <div class=\"bk-root\" id=\"6a84d578-5f71-4bf4-a163-ad20a33a71f6\" data-root-id=\"1036\"></div>\n",
       "</div>\n",
       "<script type=\"application/javascript\">(function(root) {\n",
       "  function embed_document(root) {\n",
       "    var docs_json = {\"63f4a793-1b6b-481b-9b95-eb2cbe777143\":{\"roots\":{\"references\":[{\"attributes\":{\"children\":[{\"id\":\"1040\"}],\"margin\":[0,0,0,0],\"name\":\"Row00058\"},\"id\":\"1039\",\"type\":\"Row\"},{\"attributes\":{\"end\":10.0,\"format\":\"0[.]00\",\"margin\":[5,10,5,10],\"start\":0.0,\"step\":0.1,\"title\":\"input_sepal_length\",\"value\":5.0,\"value_throttled\":5.0},\"id\":\"1038\",\"type\":\"Slider\"},{\"attributes\":{\"client_comm_id\":\"f3de849ec69a498486b0c54d91439d89\",\"comm_id\":\"00aebeeef92b447fbc8db787c4e6c976\",\"plot_id\":\"1036\"},\"id\":\"1041\",\"type\":\"panel.models.comm_manager.CommManager\"},{\"attributes\":{\"margin\":[5,5,5,5],\"name\":\"interactive00053\",\"text\":\"&lt;table border=&quot;0&quot; class=&quot;dataframe panel-df&quot;&gt;\\n  &lt;thead&gt;\\n    &lt;tr style=&quot;text-align: right;&quot;&gt;\\n      &lt;th&gt;&lt;/th&gt;\\n      &lt;th&gt;sepal_length&lt;/th&gt;\\n      &lt;th&gt;sepal_width&lt;/th&gt;\\n      &lt;th&gt;petal_length&lt;/th&gt;\\n      &lt;th&gt;petal_width&lt;/th&gt;\\n      &lt;th&gt;species&lt;/th&gt;\\n    &lt;/tr&gt;\\n  &lt;/thead&gt;\\n  &lt;tbody&gt;\\n    &lt;tr&gt;\\n      &lt;th&gt;4&lt;/th&gt;\\n      &lt;td&gt;5.0&lt;/td&gt;\\n      &lt;td&gt;3.6&lt;/td&gt;\\n      &lt;td&gt;1.4&lt;/td&gt;\\n      &lt;td&gt;0.2&lt;/td&gt;\\n      &lt;td&gt;setosa&lt;/td&gt;\\n    &lt;/tr&gt;\\n    &lt;tr&gt;\\n      &lt;th&gt;7&lt;/th&gt;\\n      &lt;td&gt;5.0&lt;/td&gt;\\n      &lt;td&gt;3.4&lt;/td&gt;\\n      &lt;td&gt;1.5&lt;/td&gt;\\n      &lt;td&gt;0.2&lt;/td&gt;\\n      &lt;td&gt;setosa&lt;/td&gt;\\n    &lt;/tr&gt;\\n    &lt;tr&gt;\\n      &lt;th&gt;25&lt;/th&gt;\\n      &lt;td&gt;5.0&lt;/td&gt;\\n      &lt;td&gt;3.0&lt;/td&gt;\\n      &lt;td&gt;1.6&lt;/td&gt;\\n      &lt;td&gt;0.2&lt;/td&gt;\\n      &lt;td&gt;setosa&lt;/td&gt;\\n    &lt;/tr&gt;\\n    &lt;tr&gt;\\n      &lt;th&gt;26&lt;/th&gt;\\n      &lt;td&gt;5.0&lt;/td&gt;\\n      &lt;td&gt;3.4&lt;/td&gt;\\n      &lt;td&gt;1.6&lt;/td&gt;\\n      &lt;td&gt;0.4&lt;/td&gt;\\n      &lt;td&gt;setosa&lt;/td&gt;\\n    &lt;/tr&gt;\\n    &lt;tr&gt;\\n      &lt;th&gt;35&lt;/th&gt;\\n      &lt;td&gt;5.0&lt;/td&gt;\\n      &lt;td&gt;3.2&lt;/td&gt;\\n      &lt;td&gt;1.2&lt;/td&gt;\\n      &lt;td&gt;0.2&lt;/td&gt;\\n      &lt;td&gt;setosa&lt;/td&gt;\\n    &lt;/tr&gt;\\n    &lt;tr&gt;\\n      &lt;th&gt;40&lt;/th&gt;\\n      &lt;td&gt;5.0&lt;/td&gt;\\n      &lt;td&gt;3.5&lt;/td&gt;\\n      &lt;td&gt;1.3&lt;/td&gt;\\n      &lt;td&gt;0.3&lt;/td&gt;\\n      &lt;td&gt;setosa&lt;/td&gt;\\n    &lt;/tr&gt;\\n    &lt;tr&gt;\\n      &lt;th&gt;43&lt;/th&gt;\\n      &lt;td&gt;5.0&lt;/td&gt;\\n      &lt;td&gt;3.5&lt;/td&gt;\\n      &lt;td&gt;1.6&lt;/td&gt;\\n      &lt;td&gt;0.6&lt;/td&gt;\\n      &lt;td&gt;setosa&lt;/td&gt;\\n    &lt;/tr&gt;\\n    &lt;tr&gt;\\n      &lt;th&gt;49&lt;/th&gt;\\n      &lt;td&gt;5.0&lt;/td&gt;\\n      &lt;td&gt;3.3&lt;/td&gt;\\n      &lt;td&gt;1.4&lt;/td&gt;\\n      &lt;td&gt;0.2&lt;/td&gt;\\n      &lt;td&gt;setosa&lt;/td&gt;\\n    &lt;/tr&gt;\\n    &lt;tr&gt;\\n      &lt;th&gt;60&lt;/th&gt;\\n      &lt;td&gt;5.0&lt;/td&gt;\\n      &lt;td&gt;2.0&lt;/td&gt;\\n      &lt;td&gt;3.5&lt;/td&gt;\\n      &lt;td&gt;1.0&lt;/td&gt;\\n      &lt;td&gt;versicolor&lt;/td&gt;\\n    &lt;/tr&gt;\\n    &lt;tr&gt;\\n      &lt;th&gt;93&lt;/th&gt;\\n      &lt;td&gt;5.0&lt;/td&gt;\\n      &lt;td&gt;2.3&lt;/td&gt;\\n      &lt;td&gt;3.3&lt;/td&gt;\\n      &lt;td&gt;1.0&lt;/td&gt;\\n      &lt;td&gt;versicolor&lt;/td&gt;\\n    &lt;/tr&gt;\\n  &lt;/tbody&gt;\\n&lt;/table&gt;\"},\"id\":\"1040\",\"type\":\"panel.models.markup.HTML\"},{\"attributes\":{\"children\":[{\"id\":\"1038\"}],\"margin\":[0,0,0,0],\"name\":\"Column00059\"},\"id\":\"1037\",\"type\":\"Column\"},{\"attributes\":{\"children\":[{\"id\":\"1037\"},{\"id\":\"1039\"}],\"margin\":[0,0,0,0],\"name\":\"Column00054\"},\"id\":\"1036\",\"type\":\"Column\"}],\"root_ids\":[\"1036\",\"1041\"]},\"title\":\"Bokeh Application\",\"version\":\"2.2.3\"}};\n",
       "    var render_items = [{\"docid\":\"63f4a793-1b6b-481b-9b95-eb2cbe777143\",\"root_ids\":[\"1036\"],\"roots\":{\"1036\":\"6a84d578-5f71-4bf4-a163-ad20a33a71f6\"}}];\n",
       "    root.Bokeh.embed.embed_items_notebook(docs_json, render_items);\n",
       "  }\n",
       "  if (root.Bokeh !== undefined && root.Bokeh.Panel !== undefined) {\n",
       "    embed_document(root);\n",
       "  } else {\n",
       "    var attempts = 0;\n",
       "    var timer = setInterval(function(root) {\n",
       "      if (root.Bokeh !== undefined && root.Bokeh.Panel !== undefined) {\n",
       "        clearInterval(timer);\n",
       "        embed_document(root);\n",
       "      } else if (document.readyState == \"complete\") {\n",
       "        attempts++;\n",
       "        if (attempts > 100) {\n",
       "          clearInterval(timer);\n",
       "          console.log(\"Bokeh: ERROR: Unable to run BokehJS code because BokehJS library is missing\");\n",
       "        }\n",
       "      }\n",
       "    }, 10, root)\n",
       "  }\n",
       "})(window);</script>"
      ],
      "text/plain": [
       "Column\n",
       "    [0] Column\n",
       "        [0] FloatSlider(end=10.0, name='input_sepal_length', value=5.0, value_throttled=5.0)\n",
       "    [1] Row\n",
       "        [0] DataFrame(DataFrame, name='interactive00053')"
      ]
     },
     "execution_count": 7,
     "metadata": {
      "application/vnd.holoviews_exec.v0+json": {
       "id": "1036"
      }
     },
     "output_type": "execute_result"
    }
   ],
   "source": [
    "import panel as pn\n",
    "import pandas as pd\n",
    "from panel.interact import interact\n",
    "\n",
    "def update_df(input_sepal_length):\n",
    "    print(input_sepal_length)\n",
    "    df = pd.read_csv('https://raw.githubusercontent.com/mwaskom/seaborn-data/master/iris.csv')\n",
    "    df = df[df.sepal_length==float(input_sepal_length)]\n",
    "    return df\n",
    "interact(update_df, input_sepal_length=(0.0, 10.0))"
   ]
  },
  {
   "cell_type": "code",
   "execution_count": null,
   "metadata": {},
   "outputs": [],
   "source": []
  }
 ],
 "metadata": {
  "kernelspec": {
   "display_name": "Python 3",
   "language": "python",
   "name": "python3"
  },
  "language_info": {
   "codemirror_mode": {
    "name": "ipython",
    "version": 3
   },
   "file_extension": ".py",
   "mimetype": "text/x-python",
   "name": "python",
   "nbconvert_exporter": "python",
   "pygments_lexer": "ipython3",
   "version": "3.8.1"
  }
 },
 "nbformat": 4,
 "nbformat_minor": 4
}
